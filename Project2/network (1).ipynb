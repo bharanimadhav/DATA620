{
 "cells": [
  {
   "cell_type": "markdown",
   "id": "1d512ab7",
   "metadata": {},
   "source": [
    "# Project 2 - Two-mode Network Dataset (DATA 620)\n",
    "## Topic: Baseball player steroid use\n",
    "#### Authors: John Mazon, LeTicia Cancel, Bharani Nittala\n"
   ]
  },
  {
   "cell_type": "markdown",
   "id": "6472b4eb",
   "metadata": {},
   "source": [
    "Video: https://www.youtube.com/watch?v=m0lWKqD4fO0"
   ]
  },
  {
   "cell_type": "code",
   "execution_count": 1,
   "id": "a1f7f6e9",
   "metadata": {},
   "outputs": [],
   "source": [
    "# Import Libraries\n",
    "import pandas as pd\n",
    "import numpy as np\n",
    "import networkx as nx\n",
    "import networkx.algorithms.bipartite as bipartite\n",
    "import matplotlib.pyplot as plt\n",
    "import matplotlib"
   ]
  },
  {
   "cell_type": "markdown",
   "id": "b0dc7c69",
   "metadata": {},
   "source": [
    "### Description of Dataset:\n",
    "\n",
    "Two networks representing steroid use among baseball players. First, a bipartite network of players and their steroid providers (of illegal performance-enhancing substances). Second, a one-mode projection of players, which are linked if they have a common supplier.\n",
    "\n",
    "### Background info\n",
    "Social network analysis [SNA] is the mapping and measuring of relationships and flows between people, groups, organizations, computers, URLs, and other connected information/knowledge entities. The nodes in the network are the people and groups while the links show relationships or flows between the nodes. SNA provides both a visual and a mathematical analysis of human relationships. \n",
    "\n",
    "When the Mitchell Report, on steroid use in Major League Baseball [MLB], was published people were surprised at both the number and names of those who were mentioned. The diagram below shows a network map created from data found in the Mitchell Report. Baseball players are shown as well as those who were found to be providers of steroids and other illegal performance enhancing substances appear. The links reveal the flow of chemicals -- from providers to players.\n",
    "\n"
   ]
  },
  {
   "cell_type": "markdown",
   "id": "dc1d52a6",
   "metadata": {},
   "source": [
    "# Section 1 - importing the data"
   ]
  },
  {
   "cell_type": "code",
   "execution_count": 2,
   "id": "08b37c2a",
   "metadata": {},
   "outputs": [],
   "source": [
    "#reading csv files\n",
    "df_edges = pd.read_csv('band.csv/edges.csv')\n",
    "df_nodes = pd.read_csv('band.csv/nodes.csv')"
   ]
  },
  {
   "cell_type": "code",
   "execution_count": 3,
   "id": "1d9270b3",
   "metadata": {},
   "outputs": [
    {
     "name": "stdout",
     "output_type": "stream",
     "text": [
      "    # source   target\n",
      "0         12        0\n",
      "1         13        0\n",
      "2         14        0\n",
      "3         14        1\n",
      "4         15        0\n",
      "..       ...      ...\n",
      "79        79       11\n",
      "80        80       11\n",
      "81        81       11\n",
      "82        82       11\n",
      "83        83       11\n",
      "\n",
      "[84 rows x 2 columns]\n",
      "    # index                            name                               _pos\n",
      "0         0                           BALCO  array([ 0.42916385, -1.06252603])\n",
      "1         1                   Greg_Anderson  array([ 0.92099285, -0.80835392])\n",
      "2         2  Palm_Beach_Rejuvenation_Centre  array([-0.4604673 , -2.28633679])\n",
      "3         3          New_Hope_Health_Centre  array([ 0.97088245, -4.86546354])\n",
      "4         4              Signature_Pharmacy  array([-0.30669722, -3.17679839])\n",
      "..      ...                             ...                                ...\n",
      "79       79                       Mike_Bell  array([ 2.47275041, -3.19814548])\n",
      "80       80                    Bart_Miadich  array([ 2.13836021, -2.33889511])\n",
      "81       81                      Jim_Parque  array([ 2.71360296, -3.34106552])\n",
      "82       82                      Phil_Hiatt  array([ 2.92429591, -3.42093518])\n",
      "83       83                    Denny_Neagle  array([ 1.74000165, -3.53990631])\n",
      "\n",
      "[84 rows x 3 columns]\n"
     ]
    }
   ],
   "source": [
    "#initialize graph\n",
    "G = nx.Graph()\n",
    "print(df_edges)\n",
    "print(df_nodes)\n",
    "\n",
    "#we print the df_edges and df_nodes to visualize better the data"
   ]
  },
  {
   "cell_type": "code",
   "execution_count": 4,
   "id": "70535c5f",
   "metadata": {},
   "outputs": [],
   "source": [
    "#find edges\n",
    "def ObtainEdges(df):\n",
    "    edges_list = [];\n",
    "    for index, info in df.iterrows():\n",
    "        edges_list.append((info[0], info[1]))\n",
    "\n",
    "    return edges_list"
   ]
  },
  {
   "cell_type": "code",
   "execution_count": 5,
   "id": "d2dc95ff",
   "metadata": {},
   "outputs": [],
   "source": [
    "#obtaining from df_edges to input into edges_list\n",
    "edges_list = ObtainEdges(df_edges)"
   ]
  },
  {
   "cell_type": "code",
   "execution_count": 6,
   "id": "3974044f",
   "metadata": {},
   "outputs": [
    {
     "data": {
      "text/plain": [
       "[(12, 0),\n",
       " (13, 0),\n",
       " (14, 0),\n",
       " (14, 1),\n",
       " (15, 0),\n",
       " (15, 1),\n",
       " (16, 1),\n",
       " (17, 1),\n",
       " (18, 1),\n",
       " (19, 0)]"
      ]
     },
     "execution_count": 6,
     "metadata": {},
     "output_type": "execute_result"
    }
   ],
   "source": [
    "#print out a portion of the edges list\n",
    "edges_list[0:10]"
   ]
  },
  {
   "cell_type": "code",
   "execution_count": 7,
   "id": "3843450c",
   "metadata": {},
   "outputs": [
    {
     "data": {
      "text/html": [
       "<div>\n",
       "<style scoped>\n",
       "    .dataframe tbody tr th:only-of-type {\n",
       "        vertical-align: middle;\n",
       "    }\n",
       "\n",
       "    .dataframe tbody tr th {\n",
       "        vertical-align: top;\n",
       "    }\n",
       "\n",
       "    .dataframe thead th {\n",
       "        text-align: right;\n",
       "    }\n",
       "</style>\n",
       "<table border=\"1\" class=\"dataframe\">\n",
       "  <thead>\n",
       "    <tr style=\"text-align: right;\">\n",
       "      <th></th>\n",
       "      <th># index</th>\n",
       "      <th>name</th>\n",
       "      <th>_pos</th>\n",
       "    </tr>\n",
       "  </thead>\n",
       "  <tbody>\n",
       "    <tr>\n",
       "      <th>0</th>\n",
       "      <td>0</td>\n",
       "      <td>BALCO</td>\n",
       "      <td>array([ 0.42916385, -1.06252603])</td>\n",
       "    </tr>\n",
       "    <tr>\n",
       "      <th>1</th>\n",
       "      <td>1</td>\n",
       "      <td>Greg_Anderson</td>\n",
       "      <td>array([ 0.92099285, -0.80835392])</td>\n",
       "    </tr>\n",
       "    <tr>\n",
       "      <th>2</th>\n",
       "      <td>2</td>\n",
       "      <td>Palm_Beach_Rejuvenation_Centre</td>\n",
       "      <td>array([-0.4604673 , -2.28633679])</td>\n",
       "    </tr>\n",
       "    <tr>\n",
       "      <th>3</th>\n",
       "      <td>3</td>\n",
       "      <td>New_Hope_Health_Centre</td>\n",
       "      <td>array([ 0.97088245, -4.86546354])</td>\n",
       "    </tr>\n",
       "    <tr>\n",
       "      <th>4</th>\n",
       "      <td>4</td>\n",
       "      <td>Signature_Pharmacy</td>\n",
       "      <td>array([-0.30669722, -3.17679839])</td>\n",
       "    </tr>\n",
       "    <tr>\n",
       "      <th>5</th>\n",
       "      <td>5</td>\n",
       "      <td>American_Pharmaceutical_Group</td>\n",
       "      <td>array([ 2.95233045, -1.87045357])</td>\n",
       "    </tr>\n",
       "    <tr>\n",
       "      <th>6</th>\n",
       "      <td>6</td>\n",
       "      <td>Health_Rejuvenation_Centre</td>\n",
       "      <td>array([-0.45673428, -3.93778089])</td>\n",
       "    </tr>\n",
       "    <tr>\n",
       "      <th>7</th>\n",
       "      <td>7</td>\n",
       "      <td>Applied_Pharmacy_Services</td>\n",
       "      <td>array([ 0.10571343, -3.51182852])</td>\n",
       "    </tr>\n",
       "    <tr>\n",
       "      <th>8</th>\n",
       "      <td>8</td>\n",
       "      <td>Arizona_AntiAging_Clinic</td>\n",
       "      <td>array([ 0.30421134, -2.92204833])</td>\n",
       "    </tr>\n",
       "    <tr>\n",
       "      <th>9</th>\n",
       "      <td>9</td>\n",
       "      <td>Health_Watch_Clinic</td>\n",
       "      <td>array([-0.06342055, -3.96214378])</td>\n",
       "    </tr>\n",
       "  </tbody>\n",
       "</table>\n",
       "</div>"
      ],
      "text/plain": [
       "   # index                            name                               _pos\n",
       "0        0                           BALCO  array([ 0.42916385, -1.06252603])\n",
       "1        1                   Greg_Anderson  array([ 0.92099285, -0.80835392])\n",
       "2        2  Palm_Beach_Rejuvenation_Centre  array([-0.4604673 , -2.28633679])\n",
       "3        3          New_Hope_Health_Centre  array([ 0.97088245, -4.86546354])\n",
       "4        4              Signature_Pharmacy  array([-0.30669722, -3.17679839])\n",
       "5        5   American_Pharmaceutical_Group  array([ 2.95233045, -1.87045357])\n",
       "6        6      Health_Rejuvenation_Centre  array([-0.45673428, -3.93778089])\n",
       "7        7       Applied_Pharmacy_Services  array([ 0.10571343, -3.51182852])\n",
       "8        8        Arizona_AntiAging_Clinic  array([ 0.30421134, -2.92204833])\n",
       "9        9             Health_Watch_Clinic  array([-0.06342055, -3.96214378])"
      ]
     },
     "execution_count": 7,
     "metadata": {},
     "output_type": "execute_result"
    }
   ],
   "source": [
    "#print out a portion of the df_nodes\n",
    "df_nodes[0:10]"
   ]
  },
  {
   "cell_type": "code",
   "execution_count": 8,
   "id": "699a3276",
   "metadata": {},
   "outputs": [],
   "source": [
    "# find nodes by using obtainAttr () which retrieves or creates the element's attribute\n",
    "def ObtainAttr(df):\n",
    "    attr_dict = dict()\n",
    "    for index, info in df.iterrows():\n",
    "        attr_dict[info[0]] = info[1];\n",
    "    return attr_dict"
   ]
  },
  {
   "cell_type": "code",
   "execution_count": 9,
   "id": "1883cbcf",
   "metadata": {},
   "outputs": [],
   "source": [
    "attr_dict= ObtainAttr(df_nodes)"
   ]
  },
  {
   "cell_type": "markdown",
   "id": "0bd9ea82",
   "metadata": {},
   "source": [
    "Below is the value combinations of nodes, relating to players and providers"
   ]
  },
  {
   "cell_type": "code",
   "execution_count": 10,
   "id": "3a9b52ba",
   "metadata": {},
   "outputs": [
    {
     "data": {
      "text/plain": [
       "{0: 'BALCO',\n",
       " 1: 'Greg_Anderson',\n",
       " 2: 'Palm_Beach_Rejuvenation_Centre',\n",
       " 3: 'New_Hope_Health_Centre',\n",
       " 4: 'Signature_Pharmacy',\n",
       " 5: 'American_Pharmaceutical_Group',\n",
       " 6: 'Health_Rejuvenation_Centre',\n",
       " 7: 'Applied_Pharmacy_Services',\n",
       " 8: 'Arizona_AntiAging_Clinic',\n",
       " 9: 'Health_Watch_Clinic',\n",
       " 10: 'BrianMcNamee',\n",
       " 11: 'Kirk_Radomski',\n",
       " 12: 'Victor_Conte',\n",
       " 13: 'Jeremy_Giambi',\n",
       " 14: 'Jason_Giambi',\n",
       " 15: 'Gary_Sheffield',\n",
       " 16: 'Bobby_Estalella',\n",
       " 17: 'Benito_Santiago',\n",
       " 18: 'Marvin_Bernard',\n",
       " 19: 'Barry_Bonds',\n",
       " 20: 'Armando_Rios',\n",
       " 21: 'Randy_Velarde',\n",
       " 22: 'Matt_Williams',\n",
       " 23: 'Daren_Holmes',\n",
       " 24: 'Paul_Byrd',\n",
       " 25: 'Jose_Guillen',\n",
       " 26: 'Ismael_Vaklez',\n",
       " 27: 'Jason_Grimsley',\n",
       " 28: 'Troy_Glaus',\n",
       " 29: 'Scott_Schoeneweis',\n",
       " 30: 'Steve_Woodward',\n",
       " 31: 'Gary_MatthewsJr',\n",
       " 32: 'David_Bell',\n",
       " 33: 'Jose_Canseco',\n",
       " 34: 'John_Rocker',\n",
       " 35: 'Jay_Gibbons',\n",
       " 36: 'Rick_Ankiel',\n",
       " 37: 'Chuck_Knoblauch',\n",
       " 38: 'Roger_Clemense',\n",
       " 39: 'Andy_Pettittle',\n",
       " 40: 'Brian_Roberts',\n",
       " 41: 'Todd_Pratt',\n",
       " 42: 'Tod_Hundley',\n",
       " 43: 'Kent_Mercker',\n",
       " 44: 'Jerry_HarrisonJr',\n",
       " 45: 'Jason_Christiansen',\n",
       " 46: 'Matt_Herges',\n",
       " 47: 'David_Segul',\n",
       " 48: 'Matt_Franco',\n",
       " 49: 'Adam_Riggs',\n",
       " 50: 'Exavier_Logan',\n",
       " 51: 'Fernando_Vina',\n",
       " 52: 'Chad_Allen',\n",
       " 53: 'Larry_Bigble',\n",
       " 54: 'Eric_Gagne',\n",
       " 55: 'Paulio_Duca',\n",
       " 56: 'Brendan_Donnelly',\n",
       " 57: 'Chris_Donnels',\n",
       " 58: 'Cody_McKay',\n",
       " 59: 'Mark_Carreon',\n",
       " 60: 'Lenny_Dykstra',\n",
       " 61: 'Rondell_White',\n",
       " 62: 'FP_Santagelo',\n",
       " 63: 'Mike_Stanton',\n",
       " 64: 'Todd_Williams',\n",
       " 65: 'Josias_Manzanillo',\n",
       " 66: 'Jose_Cervantes',\n",
       " 67: 'David_Justice',\n",
       " 68: 'Adam_Platt',\n",
       " 69: 'Miguel_Tejada',\n",
       " 70: 'Kevin_Brown',\n",
       " 71: 'Luis_Perez',\n",
       " 72: 'Gregg_Zaun',\n",
       " 73: 'Jeff_Williams',\n",
       " 74: 'Kevin_Young',\n",
       " 75: 'Tim_Laker',\n",
       " 76: 'Hal_Morris',\n",
       " 77: 'Mike_Lansing',\n",
       " 78: 'Glenallen_Hill',\n",
       " 79: 'Mike_Bell',\n",
       " 80: 'Bart_Miadich',\n",
       " 81: 'Jim_Parque',\n",
       " 82: 'Phil_Hiatt',\n",
       " 83: 'Denny_Neagle'}"
      ]
     },
     "execution_count": 10,
     "metadata": {},
     "output_type": "execute_result"
    }
   ],
   "source": [
    "attr_dict"
   ]
  },
  {
   "cell_type": "markdown",
   "id": "ce5bed1b",
   "metadata": {},
   "source": [
    "# Section 2 - Part 1 - bipartite networks"
   ]
  },
  {
   "cell_type": "markdown",
   "id": "1b1470f6",
   "metadata": {},
   "source": [
    "To understand networks and their participants, we evaluate the location and grouping of nodes in the network. These measures give us insight into the various roles and groupings in a network -- who are the connectors, bridges, isolates, where are the clusters and who is in them, who is in the core of the network\n",
    "\n",
    "\n",
    "\n"
   ]
  },
  {
   "cell_type": "code",
   "execution_count": 11,
   "id": "36d1d7a2",
   "metadata": {},
   "outputs": [],
   "source": [
    "#Creating a two mode network i.e Bipartite Networks from the above nodes and edges.\n",
    "node_1 = list(attr_dict.keys())\n",
    "node_2 = list(attr_dict.values())\n",
    "G.add_nodes_from(node_1, bipartite=0)\n",
    "G.add_nodes_from(node_2, bipartite=1)\n",
    "# G.add_edges_from(edges_list)\n",
    "# G.add_nodes_from(attr_dict.values())\n",
    "G.add_edges_from(edges_list)"
   ]
  },
  {
   "cell_type": "code",
   "execution_count": 12,
   "id": "d98a0051",
   "metadata": {},
   "outputs": [
    {
     "name": "stdout",
     "output_type": "stream",
     "text": [
      "[0, 1, 2, 3, 4, 5, 6, 7, 8, 9, 10, 11, 12, 13, 14, 15, 16, 17, 18, 19, 20, 21, 22, 23, 24, 25, 26, 27, 28, 29, 30, 31, 32, 33, 34, 35, 36, 37, 38, 39, 40, 41, 42, 43, 44, 45, 46, 47, 48, 49, 50, 51, 52, 53, 54, 55, 56, 57, 58, 59, 60, 61, 62, 63, 64, 65, 66, 67, 68, 69, 70, 71, 72, 73, 74, 75, 76, 77, 78, 79, 80, 81, 82, 83]\n"
     ]
    }
   ],
   "source": [
    "#printing the values in node_1 to see what the data looks like\n",
    "print(node_1)"
   ]
  },
  {
   "cell_type": "code",
   "execution_count": 13,
   "id": "3dd6dcef",
   "metadata": {},
   "outputs": [
    {
     "name": "stdout",
     "output_type": "stream",
     "text": [
      "['BALCO', 'Greg_Anderson', 'Palm_Beach_Rejuvenation_Centre', 'New_Hope_Health_Centre', 'Signature_Pharmacy', 'American_Pharmaceutical_Group', 'Health_Rejuvenation_Centre', 'Applied_Pharmacy_Services', 'Arizona_AntiAging_Clinic', 'Health_Watch_Clinic', 'BrianMcNamee', 'Kirk_Radomski', 'Victor_Conte', 'Jeremy_Giambi', 'Jason_Giambi', 'Gary_Sheffield', 'Bobby_Estalella', 'Benito_Santiago', 'Marvin_Bernard', 'Barry_Bonds', 'Armando_Rios', 'Randy_Velarde', 'Matt_Williams', 'Daren_Holmes', 'Paul_Byrd', 'Jose_Guillen', 'Ismael_Vaklez', 'Jason_Grimsley', 'Troy_Glaus', 'Scott_Schoeneweis', 'Steve_Woodward', 'Gary_MatthewsJr', 'David_Bell', 'Jose_Canseco', 'John_Rocker', 'Jay_Gibbons', 'Rick_Ankiel', 'Chuck_Knoblauch', 'Roger_Clemense', 'Andy_Pettittle', 'Brian_Roberts', 'Todd_Pratt', 'Tod_Hundley', 'Kent_Mercker', 'Jerry_HarrisonJr', 'Jason_Christiansen', 'Matt_Herges', 'David_Segul', 'Matt_Franco', 'Adam_Riggs', 'Exavier_Logan', 'Fernando_Vina', 'Chad_Allen', 'Larry_Bigble', 'Eric_Gagne', 'Paulio_Duca', 'Brendan_Donnelly', 'Chris_Donnels', 'Cody_McKay', 'Mark_Carreon', 'Lenny_Dykstra', 'Rondell_White', 'FP_Santagelo', 'Mike_Stanton', 'Todd_Williams', 'Josias_Manzanillo', 'Jose_Cervantes', 'David_Justice', 'Adam_Platt', 'Miguel_Tejada', 'Kevin_Brown', 'Luis_Perez', 'Gregg_Zaun', 'Jeff_Williams', 'Kevin_Young', 'Tim_Laker', 'Hal_Morris', 'Mike_Lansing', 'Glenallen_Hill', 'Mike_Bell', 'Bart_Miadich', 'Jim_Parque', 'Phil_Hiatt', 'Denny_Neagle']\n"
     ]
    }
   ],
   "source": [
    "#printing the values in node_2 to see what the data looks like\n",
    "print(node_2)"
   ]
  },
  {
   "cell_type": "code",
   "execution_count": 14,
   "id": "5f6e454f",
   "metadata": {},
   "outputs": [
    {
     "name": "stdout",
     "output_type": "stream",
     "text": [
      "[(12, 0), (13, 0), (14, 0), (14, 1), (15, 0), (15, 1), (16, 1), (17, 1), (18, 1), (19, 0), (19, 1), (20, 0), (20, 1), (21, 1), (22, 2), (23, 2), (24, 2), (25, 2), (26, 2), (27, 2), (27, 4), (28, 3), (29, 3), (30, 4), (31, 4), (31, 7), (32, 4), (32, 7), (32, 8), (33, 4), (33, 6), (33, 7), (33, 9), (34, 7), (35, 5), (36, 6), (37, 10), (38, 10), (39, 10), (40, 11), (41, 11), (42, 11), (43, 11), (44, 5), (44, 11), (45, 11), (46, 11), (47, 11), (48, 11), (49, 11), (50, 11), (51, 11), (52, 11), (53, 11), (54, 11), (55, 11), (56, 11), (57, 11), (58, 11), (59, 11), (60, 11), (61, 11), (62, 11), (63, 11), (64, 11), (65, 11), (66, 11), (67, 11), (68, 11), (69, 11), (70, 11), (71, 11), (72, 11), (73, 11), (74, 11), (75, 11), (76, 11), (77, 11), (78, 11), (79, 11), (80, 11), (81, 11), (82, 11), (83, 11)]\n"
     ]
    }
   ],
   "source": [
    "#printing the values in edges_list to see what the data looks like\n",
    "print(edges_list)"
   ]
  },
  {
   "cell_type": "code",
   "execution_count": 15,
   "id": "dc2164a6",
   "metadata": {
    "scrolled": true
   },
   "outputs": [
    {
     "data": {
      "text/plain": [
       "False"
      ]
     },
     "execution_count": 15,
     "metadata": {},
     "output_type": "execute_result"
    }
   ],
   "source": [
    "# Since the whole network contains undirected graphs also as well.\n",
    "nx.is_connected(G)"
   ]
  },
  {
   "cell_type": "code",
   "execution_count": 16,
   "id": "3493fb8e",
   "metadata": {},
   "outputs": [
    {
     "data": {
      "text/plain": [
       "NodeView((0, 1, 2, 3, 4, 5, 6, 7, 8, 9, 10, 11, 12, 13, 14, 15, 16, 17, 18, 19, 20, 21, 22, 23, 24, 25, 26, 27, 28, 29, 30, 31, 32, 33, 34, 35, 36, 37, 38, 39, 40, 41, 42, 43, 44, 45, 46, 47, 48, 49, 50, 51, 52, 53, 54, 55, 56, 57, 58, 59, 60, 61, 62, 63, 64, 65, 66, 67, 68, 69, 70, 71, 72, 73, 74, 75, 76, 77, 78, 79, 80, 81, 82, 83, 'BALCO', 'Greg_Anderson', 'Palm_Beach_Rejuvenation_Centre', 'New_Hope_Health_Centre', 'Signature_Pharmacy', 'American_Pharmaceutical_Group', 'Health_Rejuvenation_Centre', 'Applied_Pharmacy_Services', 'Arizona_AntiAging_Clinic', 'Health_Watch_Clinic', 'BrianMcNamee', 'Kirk_Radomski', 'Victor_Conte', 'Jeremy_Giambi', 'Jason_Giambi', 'Gary_Sheffield', 'Bobby_Estalella', 'Benito_Santiago', 'Marvin_Bernard', 'Barry_Bonds', 'Armando_Rios', 'Randy_Velarde', 'Matt_Williams', 'Daren_Holmes', 'Paul_Byrd', 'Jose_Guillen', 'Ismael_Vaklez', 'Jason_Grimsley', 'Troy_Glaus', 'Scott_Schoeneweis', 'Steve_Woodward', 'Gary_MatthewsJr', 'David_Bell', 'Jose_Canseco', 'John_Rocker', 'Jay_Gibbons', 'Rick_Ankiel', 'Chuck_Knoblauch', 'Roger_Clemense', 'Andy_Pettittle', 'Brian_Roberts', 'Todd_Pratt', 'Tod_Hundley', 'Kent_Mercker', 'Jerry_HarrisonJr', 'Jason_Christiansen', 'Matt_Herges', 'David_Segul', 'Matt_Franco', 'Adam_Riggs', 'Exavier_Logan', 'Fernando_Vina', 'Chad_Allen', 'Larry_Bigble', 'Eric_Gagne', 'Paulio_Duca', 'Brendan_Donnelly', 'Chris_Donnels', 'Cody_McKay', 'Mark_Carreon', 'Lenny_Dykstra', 'Rondell_White', 'FP_Santagelo', 'Mike_Stanton', 'Todd_Williams', 'Josias_Manzanillo', 'Jose_Cervantes', 'David_Justice', 'Adam_Platt', 'Miguel_Tejada', 'Kevin_Brown', 'Luis_Perez', 'Gregg_Zaun', 'Jeff_Williams', 'Kevin_Young', 'Tim_Laker', 'Hal_Morris', 'Mike_Lansing', 'Glenallen_Hill', 'Mike_Bell', 'Bart_Miadich', 'Jim_Parque', 'Phil_Hiatt', 'Denny_Neagle'))"
      ]
     },
     "execution_count": 16,
     "metadata": {},
     "output_type": "execute_result"
    }
   ],
   "source": [
    "G.nodes()\n",
    "#using the g.nodes() we are able to clearly depict all the present nodes including players and providers"
   ]
  },
  {
   "cell_type": "code",
   "execution_count": 17,
   "id": "79cd342e",
   "metadata": {},
   "outputs": [
    {
     "name": "stdout",
     "output_type": "stream",
     "text": [
      "Name: \n",
      "Type: Graph\n",
      "Number of nodes: 168\n",
      "Number of edges: 84\n",
      "Average degree:   1.0000\n"
     ]
    }
   ],
   "source": [
    "print(nx.info(G))"
   ]
  },
  {
   "cell_type": "code",
   "execution_count": 18,
   "id": "collaborative-optimization",
   "metadata": {},
   "outputs": [
    {
     "data": {
      "image/png": "[encoded data removed]",
      "text/plain": [
       "<Figure size 432x288 with 1 Axes>"
      ]
     },
     "metadata": {},
     "output_type": "display_data"
    }
   ],
   "source": [
    "nx.draw(G,with_labels=True)"
   ]
  },
  {
   "cell_type": "markdown",
   "id": "3a4e804e",
   "metadata": {},
   "source": [
    "# Section 2 - Part 2 - bipartite networks"
   ]
  },
  {
   "cell_type": "markdown",
   "id": "05099dab",
   "metadata": {},
   "source": [
    "A subgraph is a subset of the nodes of a network, and all of the edges linking these nodes. Any group of nodes can form a subgraph—and further down we will describe several interesting ways to use this.\n",
    "\n",
    "Component subgraphs (or simply components) are portions of the network that are disconnected from each other. \n",
    "Many real networks have multiple components.\n",
    "\n",
    "NetworkX has a function for isolating connected components (connected_component_subgraphs(e)); the function returns an array of Graph objects corresponding to each of the connected components:\n",
    "\n"
   ]
  },
  {
   "cell_type": "markdown",
   "id": "45086779",
   "metadata": {},
   "source": [
    "# S[0]"
   ]
  },
  {
   "cell_type": "code",
   "execution_count": 19,
   "id": "0046ac42",
   "metadata": {},
   "outputs": [],
   "source": [
    "#finding every connected graphs in the whole network\n",
    "S = [G.subgraph(c).copy() for c in nx.connected_components(G)]"
   ]
  },
  {
   "cell_type": "code",
   "execution_count": 20,
   "id": "7974f367",
   "metadata": {},
   "outputs": [
    {
     "data": {
      "text/plain": [
       "89"
      ]
     },
     "execution_count": 20,
     "metadata": {},
     "output_type": "execute_result"
    }
   ],
   "source": [
    "len(S)"
   ]
  },
  {
   "cell_type": "code",
   "execution_count": 21,
   "id": "af4dbda3",
   "metadata": {},
   "outputs": [
    {
     "name": "stdout",
     "output_type": "stream",
     "text": [
      "[(0, 12), (0, 13), (0, 14), (0, 15), (0, 19), (0, 20), (1, 14), (1, 15), (1, 16), (1, 17), (1, 18), (1, 19), (1, 20), (1, 21)]\n"
     ]
    }
   ],
   "source": [
    "s = S[0].edges()\n",
    "print(s)"
   ]
  },
  {
   "cell_type": "code",
   "execution_count": 22,
   "id": "45132799",
   "metadata": {},
   "outputs": [
    {
     "data": {
      "text/plain": [
       "True"
      ]
     },
     "execution_count": 22,
     "metadata": {},
     "output_type": "execute_result"
    }
   ],
   "source": [
    "# Now, we have 4 two mode directed networks from the whole network\n",
    "nx.is_connected(S[0])"
   ]
  },
  {
   "cell_type": "code",
   "execution_count": 23,
   "id": "fb31c3e2",
   "metadata": {},
   "outputs": [
    {
     "data": {
      "text/plain": [
       "12"
      ]
     },
     "execution_count": 23,
     "metadata": {},
     "output_type": "execute_result"
    }
   ],
   "source": [
    "len(S[0])"
   ]
  },
  {
   "cell_type": "code",
   "execution_count": 24,
   "id": "113f2e8a",
   "metadata": {
    "scrolled": true
   },
   "outputs": [
    {
     "data": {
      "text/plain": [
       "True"
      ]
     },
     "execution_count": 24,
     "metadata": {},
     "output_type": "execute_result"
    }
   ],
   "source": [
    "nx.is_connected(S[0])"
   ]
  },
  {
   "cell_type": "code",
   "execution_count": 25,
   "id": "1fb3234b",
   "metadata": {},
   "outputs": [
    {
     "data": {
      "text/plain": [
       "[[0, 12],\n",
       " [0, 13],\n",
       " [0, 14],\n",
       " [0, 15],\n",
       " [0, 19],\n",
       " [0, 20],\n",
       " [1, 14],\n",
       " [1, 15],\n",
       " [1, 16],\n",
       " [1, 17],\n",
       " [1, 18],\n",
       " [1, 19],\n",
       " [1, 20],\n",
       " [1, 21]]"
      ]
     },
     "execution_count": 25,
     "metadata": {},
     "output_type": "execute_result"
    }
   ],
   "source": [
    "s_1 = [list(l) for l in s]\n",
    "s_1"
   ]
  },
  {
   "cell_type": "code",
   "execution_count": 26,
   "id": "c7dc2f80",
   "metadata": {},
   "outputs": [
    {
     "data": {
      "text/plain": [
       "[[0, 'Victor_Conte'],\n",
       " [0, 'Jeremy_Giambi'],\n",
       " [0, 'Jason_Giambi'],\n",
       " [0, 'Gary_Sheffield'],\n",
       " [0, 'Barry_Bonds'],\n",
       " [0, 'Armando_Rios'],\n",
       " [1, 'Jason_Giambi'],\n",
       " [1, 'Gary_Sheffield'],\n",
       " [1, 'Bobby_Estalella'],\n",
       " [1, 'Benito_Santiago'],\n",
       " [1, 'Marvin_Bernard'],\n",
       " [1, 'Barry_Bonds'],\n",
       " [1, 'Armando_Rios'],\n",
       " [1, 'Randy_Velarde']]"
      ]
     },
     "execution_count": 26,
     "metadata": {},
     "output_type": "execute_result"
    }
   ],
   "source": [
    "s_1 = [[item[0], attr_dict[item[1]]] for item in s_1]\n",
    "s_1"
   ]
  },
  {
   "cell_type": "code",
   "execution_count": 27,
   "id": "5959b0ac",
   "metadata": {},
   "outputs": [
    {
     "data": {
      "text/plain": [
       "[(0, 'Victor_Conte'),\n",
       " (0, 'Jeremy_Giambi'),\n",
       " (0, 'Jason_Giambi'),\n",
       " (0, 'Gary_Sheffield'),\n",
       " (0, 'Barry_Bonds'),\n",
       " (0, 'Armando_Rios'),\n",
       " (1, 'Jason_Giambi'),\n",
       " (1, 'Gary_Sheffield'),\n",
       " (1, 'Bobby_Estalella'),\n",
       " (1, 'Benito_Santiago'),\n",
       " (1, 'Marvin_Bernard'),\n",
       " (1, 'Barry_Bonds'),\n",
       " (1, 'Armando_Rios'),\n",
       " (1, 'Randy_Velarde')]"
      ]
     },
     "execution_count": 27,
     "metadata": {},
     "output_type": "execute_result"
    }
   ],
   "source": [
    "s_1 = [tuple(l) for l in s_1]\n",
    "s_1\n"
   ]
  },
  {
   "cell_type": "code",
   "execution_count": 28,
   "id": "2a49dae8",
   "metadata": {},
   "outputs": [
    {
     "name": "stdout",
     "output_type": "stream",
     "text": [
      "['BALCO', 'Greg_Anderson', 'Victor_Conte', 'Jeremy_Giambi', 'Jason_Giambi', 'Gary_Sheffield', 'Bobby_Estalella', 'Benito_Santiago', 'Marvin_Bernard', 'Barry_Bonds', 'Armando_Rios', 'Randy_Velarde']\n"
     ]
    }
   ],
   "source": [
    "def replace(list, dictionary):\n",
    "    return [attr_dict.get(item, item) for item in list]\n",
    "d = replace(S[0].nodes(),attr_dict)\n",
    "print(d)"
   ]
  },
  {
   "cell_type": "code",
   "execution_count": 29,
   "id": "e579cf64",
   "metadata": {},
   "outputs": [],
   "source": [
    "S[0].clear()\n"
   ]
  },
  {
   "cell_type": "code",
   "execution_count": 30,
   "id": "e9b31ba1",
   "metadata": {},
   "outputs": [
    {
     "data": {
      "text/plain": [
       "NodeView(())"
      ]
     },
     "execution_count": 30,
     "metadata": {},
     "output_type": "execute_result"
    }
   ],
   "source": [
    "S[0].nodes()"
   ]
  },
  {
   "cell_type": "code",
   "execution_count": 31,
   "id": "34afc4d6",
   "metadata": {
    "scrolled": true
   },
   "outputs": [
    {
     "data": {
      "text/plain": [
       "EdgeView([])"
      ]
     },
     "execution_count": 31,
     "metadata": {},
     "output_type": "execute_result"
    }
   ],
   "source": [
    "S[0].edges()"
   ]
  },
  {
   "cell_type": "code",
   "execution_count": 32,
   "id": "42813f8d",
   "metadata": {},
   "outputs": [],
   "source": [
    "S[0].add_nodes_from(d)"
   ]
  },
  {
   "cell_type": "code",
   "execution_count": 33,
   "id": "c51ff7bf",
   "metadata": {},
   "outputs": [],
   "source": [
    "S[0].add_edges_from(s_1)"
   ]
  },
  {
   "cell_type": "code",
   "execution_count": 34,
   "id": "ee7962bd",
   "metadata": {},
   "outputs": [
    {
     "data": {
      "text/plain": [
       "False"
      ]
     },
     "execution_count": 34,
     "metadata": {},
     "output_type": "execute_result"
    }
   ],
   "source": [
    "nx.is_connected(S[0])\n"
   ]
  },
  {
   "cell_type": "code",
   "execution_count": 35,
   "id": "710a8188",
   "metadata": {
    "scrolled": true
   },
   "outputs": [
    {
     "name": "stderr",
     "output_type": "stream",
     "text": [
      "<ipython-input-35-051501af3977>:4: UserWarning: Matplotlib is currently using module://ipykernel.pylab.backend_inline, which is a non-GUI backend, so cannot show the figure.\n",
      "  fig1.show()\n"
     ]
    },
    {
     "data": {
      "image/png": "[encoded data removed]",
      "text/plain": [
       "<Figure size 1080x1440 with 1 Axes>"
      ]
     },
     "metadata": {},
     "output_type": "display_data"
    }
   ],
   "source": [
    "nx.draw_networkx(S[0],with_labels=True)\n",
    "fig1 = matplotlib.pyplot.gcf()\n",
    "fig1.set_size_inches(15, 20)\n",
    "fig1.show()"
   ]
  },
  {
   "cell_type": "markdown",
   "id": "2b6d9607",
   "metadata": {},
   "source": [
    "By looking at the map above, it appears that the players taking steroids may be connected to each other. The hubs in the network above are the drug providers -- they appear to be the connectors who are controlling the process. We need to see other pictures/maps to get a better grasp of what is really happening. We take several views/pictures of social systems for the same since multiple views provide multiple insights.\n",
    "\n",
    "Through player trades and free-agent signings, MLB does a good job of building multiple overlapping social networks. With players constantly changing teams, they form new links with new teammates, while maintaining many of their old ties to former teammates. This activity quickly creates a densely interconnected social network "
   ]
  },
  {
   "cell_type": "markdown",
   "id": "5542d483",
   "metadata": {},
   "source": [
    "# Section 3 - part 1 - subnetworks analysis"
   ]
  },
  {
   "cell_type": "markdown",
   "id": "b8892f69",
   "metadata": {},
   "source": [
    "# S[3]"
   ]
  },
  {
   "cell_type": "code",
   "execution_count": 36,
   "id": "384c52ca",
   "metadata": {},
   "outputs": [],
   "source": [
    "f = S[3].edges()"
   ]
  },
  {
   "cell_type": "code",
   "execution_count": 37,
   "id": "daa5f75e",
   "metadata": {},
   "outputs": [
    {
     "data": {
      "text/plain": [
       "True"
      ]
     },
     "execution_count": 37,
     "metadata": {},
     "output_type": "execute_result"
    }
   ],
   "source": [
    "nx.is_connected(S[3])"
   ]
  },
  {
   "cell_type": "code",
   "execution_count": 38,
   "id": "1b1533cc",
   "metadata": {},
   "outputs": [
    {
     "data": {
      "text/plain": [
       "47"
      ]
     },
     "execution_count": 38,
     "metadata": {},
     "output_type": "execute_result"
    }
   ],
   "source": [
    "len(S[3])"
   ]
  },
  {
   "cell_type": "code",
   "execution_count": 39,
   "id": "bf5d528e",
   "metadata": {},
   "outputs": [
    {
     "data": {
      "text/plain": [
       "True"
      ]
     },
     "execution_count": 39,
     "metadata": {},
     "output_type": "execute_result"
    }
   ],
   "source": [
    "nx.is_connected(S[3])"
   ]
  },
  {
   "cell_type": "code",
   "execution_count": 40,
   "id": "551d7bd3",
   "metadata": {},
   "outputs": [
    {
     "data": {
      "text/plain": [
       "[[5, 35],\n",
       " [5, 44],\n",
       " [11, 40],\n",
       " [11, 41],\n",
       " [11, 42],\n",
       " [11, 43],\n",
       " [11, 44],\n",
       " [11, 45],\n",
       " [11, 46],\n",
       " [11, 47],\n",
       " [11, 48],\n",
       " [11, 49],\n",
       " [11, 50],\n",
       " [11, 51],\n",
       " [11, 52],\n",
       " [11, 53],\n",
       " [11, 54],\n",
       " [11, 55],\n",
       " [11, 56],\n",
       " [11, 57],\n",
       " [11, 58],\n",
       " [11, 59],\n",
       " [11, 60],\n",
       " [11, 61],\n",
       " [11, 62],\n",
       " [11, 63],\n",
       " [11, 64],\n",
       " [11, 65],\n",
       " [11, 66],\n",
       " [11, 67],\n",
       " [11, 68],\n",
       " [11, 69],\n",
       " [11, 70],\n",
       " [11, 71],\n",
       " [11, 72],\n",
       " [11, 73],\n",
       " [11, 74],\n",
       " [11, 75],\n",
       " [11, 76],\n",
       " [11, 77],\n",
       " [11, 78],\n",
       " [11, 79],\n",
       " [11, 80],\n",
       " [11, 81],\n",
       " [11, 82],\n",
       " [11, 83]]"
      ]
     },
     "execution_count": 40,
     "metadata": {},
     "output_type": "execute_result"
    }
   ],
   "source": [
    "f_1 = [list(l) for l in f]\n",
    "f_1"
   ]
  },
  {
   "cell_type": "code",
   "execution_count": 41,
   "id": "6a591219",
   "metadata": {},
   "outputs": [
    {
     "data": {
      "text/plain": [
       "[[5, 'Jay_Gibbons'],\n",
       " [5, 'Jerry_HarrisonJr'],\n",
       " [11, 'Brian_Roberts'],\n",
       " [11, 'Todd_Pratt'],\n",
       " [11, 'Tod_Hundley'],\n",
       " [11, 'Kent_Mercker'],\n",
       " [11, 'Jerry_HarrisonJr'],\n",
       " [11, 'Jason_Christiansen'],\n",
       " [11, 'Matt_Herges'],\n",
       " [11, 'David_Segul'],\n",
       " [11, 'Matt_Franco'],\n",
       " [11, 'Adam_Riggs'],\n",
       " [11, 'Exavier_Logan'],\n",
       " [11, 'Fernando_Vina'],\n",
       " [11, 'Chad_Allen'],\n",
       " [11, 'Larry_Bigble'],\n",
       " [11, 'Eric_Gagne'],\n",
       " [11, 'Paulio_Duca'],\n",
       " [11, 'Brendan_Donnelly'],\n",
       " [11, 'Chris_Donnels'],\n",
       " [11, 'Cody_McKay'],\n",
       " [11, 'Mark_Carreon'],\n",
       " [11, 'Lenny_Dykstra'],\n",
       " [11, 'Rondell_White'],\n",
       " [11, 'FP_Santagelo'],\n",
       " [11, 'Mike_Stanton'],\n",
       " [11, 'Todd_Williams'],\n",
       " [11, 'Josias_Manzanillo'],\n",
       " [11, 'Jose_Cervantes'],\n",
       " [11, 'David_Justice'],\n",
       " [11, 'Adam_Platt'],\n",
       " [11, 'Miguel_Tejada'],\n",
       " [11, 'Kevin_Brown'],\n",
       " [11, 'Luis_Perez'],\n",
       " [11, 'Gregg_Zaun'],\n",
       " [11, 'Jeff_Williams'],\n",
       " [11, 'Kevin_Young'],\n",
       " [11, 'Tim_Laker'],\n",
       " [11, 'Hal_Morris'],\n",
       " [11, 'Mike_Lansing'],\n",
       " [11, 'Glenallen_Hill'],\n",
       " [11, 'Mike_Bell'],\n",
       " [11, 'Bart_Miadich'],\n",
       " [11, 'Jim_Parque'],\n",
       " [11, 'Phil_Hiatt'],\n",
       " [11, 'Denny_Neagle']]"
      ]
     },
     "execution_count": 41,
     "metadata": {},
     "output_type": "execute_result"
    }
   ],
   "source": [
    "f_1 = [[item[0], attr_dict[item[1]]] for item in f_1]\n",
    "f_1"
   ]
  },
  {
   "cell_type": "code",
   "execution_count": 42,
   "id": "35827066",
   "metadata": {},
   "outputs": [
    {
     "data": {
      "text/plain": [
       "[(5, 'Jay_Gibbons'),\n",
       " (5, 'Jerry_HarrisonJr'),\n",
       " (11, 'Brian_Roberts'),\n",
       " (11, 'Todd_Pratt'),\n",
       " (11, 'Tod_Hundley'),\n",
       " (11, 'Kent_Mercker'),\n",
       " (11, 'Jerry_HarrisonJr'),\n",
       " (11, 'Jason_Christiansen'),\n",
       " (11, 'Matt_Herges'),\n",
       " (11, 'David_Segul'),\n",
       " (11, 'Matt_Franco'),\n",
       " (11, 'Adam_Riggs'),\n",
       " (11, 'Exavier_Logan'),\n",
       " (11, 'Fernando_Vina'),\n",
       " (11, 'Chad_Allen'),\n",
       " (11, 'Larry_Bigble'),\n",
       " (11, 'Eric_Gagne'),\n",
       " (11, 'Paulio_Duca'),\n",
       " (11, 'Brendan_Donnelly'),\n",
       " (11, 'Chris_Donnels'),\n",
       " (11, 'Cody_McKay'),\n",
       " (11, 'Mark_Carreon'),\n",
       " (11, 'Lenny_Dykstra'),\n",
       " (11, 'Rondell_White'),\n",
       " (11, 'FP_Santagelo'),\n",
       " (11, 'Mike_Stanton'),\n",
       " (11, 'Todd_Williams'),\n",
       " (11, 'Josias_Manzanillo'),\n",
       " (11, 'Jose_Cervantes'),\n",
       " (11, 'David_Justice'),\n",
       " (11, 'Adam_Platt'),\n",
       " (11, 'Miguel_Tejada'),\n",
       " (11, 'Kevin_Brown'),\n",
       " (11, 'Luis_Perez'),\n",
       " (11, 'Gregg_Zaun'),\n",
       " (11, 'Jeff_Williams'),\n",
       " (11, 'Kevin_Young'),\n",
       " (11, 'Tim_Laker'),\n",
       " (11, 'Hal_Morris'),\n",
       " (11, 'Mike_Lansing'),\n",
       " (11, 'Glenallen_Hill'),\n",
       " (11, 'Mike_Bell'),\n",
       " (11, 'Bart_Miadich'),\n",
       " (11, 'Jim_Parque'),\n",
       " (11, 'Phil_Hiatt'),\n",
       " (11, 'Denny_Neagle')]"
      ]
     },
     "execution_count": 42,
     "metadata": {},
     "output_type": "execute_result"
    }
   ],
   "source": [
    "f_1 = [tuple(l) for l in f_1]\n",
    "f_1"
   ]
  },
  {
   "cell_type": "code",
   "execution_count": 43,
   "id": "7c9eec08",
   "metadata": {},
   "outputs": [
    {
     "name": "stdout",
     "output_type": "stream",
     "text": [
      "['American_Pharmaceutical_Group', 'Kirk_Radomski', 'Jay_Gibbons', 'Brian_Roberts', 'Todd_Pratt', 'Tod_Hundley', 'Kent_Mercker', 'Jerry_HarrisonJr', 'Jason_Christiansen', 'Matt_Herges', 'David_Segul', 'Matt_Franco', 'Adam_Riggs', 'Exavier_Logan', 'Fernando_Vina', 'Chad_Allen', 'Larry_Bigble', 'Eric_Gagne', 'Paulio_Duca', 'Brendan_Donnelly', 'Chris_Donnels', 'Cody_McKay', 'Mark_Carreon', 'Lenny_Dykstra', 'Rondell_White', 'FP_Santagelo', 'Mike_Stanton', 'Todd_Williams', 'Josias_Manzanillo', 'Jose_Cervantes', 'David_Justice', 'Adam_Platt', 'Miguel_Tejada', 'Kevin_Brown', 'Luis_Perez', 'Gregg_Zaun', 'Jeff_Williams', 'Kevin_Young', 'Tim_Laker', 'Hal_Morris', 'Mike_Lansing', 'Glenallen_Hill', 'Mike_Bell', 'Bart_Miadich', 'Jim_Parque', 'Phil_Hiatt', 'Denny_Neagle']\n"
     ]
    }
   ],
   "source": [
    "def replace(list, dictionary):\n",
    "    return [attr_dict.get(item, item) for item in list]\n",
    "j = replace(S[3].nodes(),attr_dict)\n",
    "print(j)"
   ]
  },
  {
   "cell_type": "code",
   "execution_count": 44,
   "id": "1282dfeb",
   "metadata": {},
   "outputs": [],
   "source": [
    "S[3].clear()"
   ]
  },
  {
   "cell_type": "code",
   "execution_count": 45,
   "id": "b47f94fe",
   "metadata": {},
   "outputs": [
    {
     "data": {
      "text/plain": [
       "NodeView(())"
      ]
     },
     "execution_count": 45,
     "metadata": {},
     "output_type": "execute_result"
    }
   ],
   "source": [
    "S[3].nodes()"
   ]
  },
  {
   "cell_type": "code",
   "execution_count": 46,
   "id": "58c32e9f",
   "metadata": {},
   "outputs": [
    {
     "data": {
      "text/plain": [
       "EdgeView([])"
      ]
     },
     "execution_count": 46,
     "metadata": {},
     "output_type": "execute_result"
    }
   ],
   "source": [
    "S[3].edges()"
   ]
  },
  {
   "cell_type": "code",
   "execution_count": 47,
   "id": "f1153e1f",
   "metadata": {},
   "outputs": [],
   "source": [
    "S[3].add_nodes_from(d)"
   ]
  },
  {
   "cell_type": "code",
   "execution_count": 48,
   "id": "2ec3dc2e",
   "metadata": {},
   "outputs": [],
   "source": [
    "S[3].add_edges_from(s_1)"
   ]
  },
  {
   "cell_type": "code",
   "execution_count": 49,
   "id": "c5b461ab",
   "metadata": {},
   "outputs": [
    {
     "data": {
      "text/plain": [
       "False"
      ]
     },
     "execution_count": 49,
     "metadata": {},
     "output_type": "execute_result"
    }
   ],
   "source": [
    "nx.is_connected(S[3])"
   ]
  },
  {
   "cell_type": "code",
   "execution_count": 50,
   "id": "2aa898fe",
   "metadata": {},
   "outputs": [
    {
     "name": "stderr",
     "output_type": "stream",
     "text": [
      "<ipython-input-50-a51d1aaf5ea7>:4: UserWarning: Matplotlib is currently using module://ipykernel.pylab.backend_inline, which is a non-GUI backend, so cannot show the figure.\n",
      "  fig.show()\n"
     ]
    },
    {
     "data": {
      "image/png": "[encoded data removed]",
      "text/plain": [
       "<Figure size 1332x756 with 1 Axes>"
      ]
     },
     "metadata": {},
     "output_type": "display_data"
    }
   ],
   "source": [
    "nx.draw_networkx(S[3],with_labels=True)\n",
    "fig = matplotlib.pyplot.gcf()\n",
    "fig.set_size_inches(18.5, 10.5)\n",
    "fig.show()\n"
   ]
  },
  {
   "cell_type": "markdown",
   "id": "ef5b1792",
   "metadata": {},
   "source": []
  },
  {
   "cell_type": "markdown",
   "id": "c495538e",
   "metadata": {},
   "source": [
    "# Section 3 - part 2 - subnetworks analysis"
   ]
  },
  {
   "cell_type": "markdown",
   "id": "d1f20a37",
   "metadata": {},
   "source": [
    "# S[0] "
   ]
  },
  {
   "cell_type": "markdown",
   "id": "8f5b9c4f",
   "metadata": {},
   "source": [
    "In graph theory and computer science, an adjacency matrix is a square matrix used to represent a finite graph. The elements of the matrix indicate whether pairs of vertices are adjacent or not in the graph. In the special case of a finite simple graph, the adjacency matrix is a-matrix with zeros on its diagonal."
   ]
  },
  {
   "cell_type": "code",
   "execution_count": 51,
   "id": "30d67b64",
   "metadata": {},
   "outputs": [
    {
     "data": {
      "text/plain": [
       "<14x14 sparse matrix of type '<class 'numpy.intc'>'\n",
       "\twith 28 stored elements in Compressed Sparse Row format>"
      ]
     },
     "execution_count": 51,
     "metadata": {},
     "output_type": "execute_result"
    }
   ],
   "source": [
    "# Representing the two mode network in matrix\n",
    "A = nx.adjacency_matrix(S[0])\n",
    "A"
   ]
  },
  {
   "cell_type": "code",
   "execution_count": 52,
   "id": "30ce7393",
   "metadata": {},
   "outputs": [
    {
     "name": "stdout",
     "output_type": "stream",
     "text": [
      "  (2, 12)\t1\n",
      "  (3, 12)\t1\n",
      "  (4, 12)\t1\n",
      "  (4, 13)\t1\n",
      "  (5, 12)\t1\n",
      "  (5, 13)\t1\n",
      "  (6, 13)\t1\n",
      "  (7, 13)\t1\n",
      "  (8, 13)\t1\n",
      "  (9, 12)\t1\n",
      "  (9, 13)\t1\n",
      "  (10, 12)\t1\n",
      "  (10, 13)\t1\n",
      "  (11, 13)\t1\n",
      "  (12, 2)\t1\n",
      "  (12, 3)\t1\n",
      "  (12, 4)\t1\n",
      "  (12, 5)\t1\n",
      "  (12, 9)\t1\n",
      "  (12, 10)\t1\n",
      "  (13, 4)\t1\n",
      "  (13, 5)\t1\n",
      "  (13, 6)\t1\n",
      "  (13, 7)\t1\n",
      "  (13, 8)\t1\n",
      "  (13, 9)\t1\n",
      "  (13, 10)\t1\n",
      "  (13, 11)\t1\n"
     ]
    }
   ],
   "source": [
    "print(A)"
   ]
  },
  {
   "cell_type": "code",
   "execution_count": 53,
   "id": "657209ad",
   "metadata": {},
   "outputs": [
    {
     "data": {
      "text/plain": [
       "[[],\n",
       " [],\n",
       " [],\n",
       " [],\n",
       " [],\n",
       " [],\n",
       " [],\n",
       " [],\n",
       " [],\n",
       " [],\n",
       " [],\n",
       " [],\n",
       " [12, 13, 14, 15, 19, 20],\n",
       " [14, 15, 16, 17, 18, 19, 20, 21]]"
      ]
     },
     "execution_count": 53,
     "metadata": {},
     "output_type": "execute_result"
    }
   ],
   "source": [
    "# labeling every islands on the two mode network\n",
    "def label_island(lst):\n",
    "    label =[]\n",
    "    for i in lst:\n",
    "        a = [n for n in G.neighbors(i)]\n",
    "        label.append(a)\n",
    "    return label\n",
    "\n",
    "label_island(S[0].nodes)"
   ]
  },
  {
   "cell_type": "markdown",
   "id": "7b585ab3",
   "metadata": {},
   "source": [
    "# S[1]"
   ]
  },
  {
   "cell_type": "code",
   "execution_count": 54,
   "id": "9dd55c27",
   "metadata": {},
   "outputs": [
    {
     "data": {
      "text/plain": [
       "<18x18 sparse matrix of type '<class 'numpy.intc'>'\n",
       "\twith 38 stored elements in Compressed Sparse Row format>"
      ]
     },
     "execution_count": 54,
     "metadata": {},
     "output_type": "execute_result"
    }
   ],
   "source": [
    "# Representing the two mode network in matrix\n",
    "B = nx.adjacency_matrix(S[1])\n",
    "B"
   ]
  },
  {
   "cell_type": "code",
   "execution_count": 55,
   "id": "98926c42",
   "metadata": {},
   "outputs": [
    {
     "name": "stdout",
     "output_type": "stream",
     "text": [
      "  (0, 4)\t1\n",
      "  (0, 7)\t1\n",
      "  (0, 8)\t1\n",
      "  (1, 4)\t1\n",
      "  (1, 6)\t1\n",
      "  (1, 7)\t1\n",
      "  (1, 9)\t1\n",
      "  (2, 10)\t1\n",
      "  (2, 11)\t1\n",
      "  (2, 12)\t1\n",
      "  (2, 13)\t1\n",
      "  (2, 14)\t1\n",
      "  (2, 15)\t1\n",
      "  (3, 7)\t1\n",
      "  (4, 0)\t1\n",
      "  (4, 1)\t1\n",
      "  (4, 15)\t1\n",
      "  (4, 16)\t1\n",
      "  (4, 17)\t1\n",
      "  (5, 6)\t1\n",
      "  (6, 1)\t1\n",
      "  (6, 5)\t1\n",
      "  (7, 0)\t1\n",
      "  (7, 1)\t1\n",
      "  (7, 3)\t1\n",
      "  (7, 17)\t1\n",
      "  (8, 0)\t1\n",
      "  (9, 1)\t1\n",
      "  (10, 2)\t1\n",
      "  (11, 2)\t1\n",
      "  (12, 2)\t1\n",
      "  (13, 2)\t1\n",
      "  (14, 2)\t1\n",
      "  (15, 2)\t1\n",
      "  (15, 4)\t1\n",
      "  (16, 4)\t1\n",
      "  (17, 4)\t1\n",
      "  (17, 7)\t1\n"
     ]
    }
   ],
   "source": [
    "print(B)"
   ]
  },
  {
   "cell_type": "code",
   "execution_count": 56,
   "id": "d52f8d53",
   "metadata": {},
   "outputs": [],
   "source": [
    "# labeling every islands on the two mode network\n",
    "def label_island(lst):\n",
    "    label =[]\n",
    "    for i in lst:\n",
    "        b = [n for n in G.neighbors(i)]\n",
    "        label.append(b)\n",
    "    return label"
   ]
  },
  {
   "cell_type": "code",
   "execution_count": 57,
   "id": "27d30776",
   "metadata": {},
   "outputs": [
    {
     "data": {
      "text/plain": [
       "[[4, 7, 8],\n",
       " [4, 6, 7, 9],\n",
       " [22, 23, 24, 25, 26, 27],\n",
       " [7],\n",
       " [27, 30, 31, 32, 33],\n",
       " [6],\n",
       " [33, 36],\n",
       " [31, 32, 33, 34],\n",
       " [32],\n",
       " [33],\n",
       " [2],\n",
       " [2],\n",
       " [2],\n",
       " [2],\n",
       " [2],\n",
       " [2, 4],\n",
       " [4],\n",
       " [4, 7]]"
      ]
     },
     "execution_count": 57,
     "metadata": {},
     "output_type": "execute_result"
    }
   ],
   "source": [
    "label_island(S[1].nodes)"
   ]
  },
  {
   "cell_type": "markdown",
   "id": "89580344",
   "metadata": {},
   "source": [
    "# Section 4 - infering subgroups analysis"
   ]
  },
  {
   "cell_type": "markdown",
   "id": "fb891adc",
   "metadata": {},
   "source": [
    "###### Bipartite networks (or two mode networks) are a type of network in which nodes (or players) can be divided into two subsets based on the fact that there are no links between actors within each subset, only between the two. Because the performers are divided into two groups and there are no relationships between them,"
   ]
  },
  {
   "cell_type": "markdown",
   "id": "7b8fc7d9",
   "metadata": {},
   "source": [
    "###### As we see in the whole undirected network, there are edges which exists between each and every nodes. Also after finding the largest two mode network from the first network, We will find other separate edges between the new nodes of the two mode network."
   ]
  },
  {
   "cell_type": "code",
   "execution_count": 58,
   "id": "3852c656",
   "metadata": {},
   "outputs": [
    {
     "name": "stdout",
     "output_type": "stream",
     "text": [
      "[('Victor_Conte', 0), ('Jeremy_Giambi', 0), ('Jason_Giambi', 0), ('Jason_Giambi', 1), ('Gary_Sheffield', 0), ('Gary_Sheffield', 1), ('Bobby_Estalella', 1), ('Benito_Santiago', 1), ('Marvin_Bernard', 1), ('Barry_Bonds', 0), ('Barry_Bonds', 1), ('Armando_Rios', 0), ('Armando_Rios', 1), ('Randy_Velarde', 1)]\n"
     ]
    }
   ],
   "source": [
    "# finding edges of the two mode network\n",
    "print(S[0].edges)"
   ]
  },
  {
   "cell_type": "markdown",
   "id": "e93fdf8b",
   "metadata": {},
   "source": [
    "###### These edges exists between the newly formed nodes of the two mode network. Like this, we can infer the subgroups of the two mode network."
   ]
  },
  {
   "cell_type": "markdown",
   "id": "06728219",
   "metadata": {},
   "source": [
    "# Conclusion\n",
    "Social network researchers measure network activity for a node by using the concept of degrees -- the number of direct connections a node has. In the analysis above, we see the providers have the most direct connections in the network, making them the most active nodes in the network. \n",
    "Providers are a 'connector' or 'hub' in this network. Common wisdom in personal networks is \"the more connections, the better.\" This is not always so. What really matters is where those connections lead to -- and how they connect the otherwise unconnected."
   ]
  },
  {
   "cell_type": "markdown",
   "id": "c1649e1a",
   "metadata": {},
   "source": [
    "## Citation\n",
    "V. Krebs, \"The Spread of Steroids in Baseball.\" http://orgnet.com/steroids.html (2008)"
   ]
  }
 ],
 "metadata": {
  "kernelspec": {
   "display_name": "Python 3",
   "language": "python",
   "name": "python3"
  },
  "language_info": {
   "codemirror_mode": {
    "name": "ipython",
    "version": 3
   },
   "file_extension": ".py",
   "mimetype": "text/x-python",
   "name": "python",
   "nbconvert_exporter": "python",
   "pygments_lexer": "ipython3",
   "version": "3.8.8"
  }
 },
 "nbformat": 4,
 "nbformat_minor": 5
}
